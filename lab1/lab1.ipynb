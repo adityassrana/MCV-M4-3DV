{
 "cells": [
  {
   "cell_type": "markdown",
   "metadata": {},
   "source": [
    "# Lab 1: image rectification\n",
    "\n",
    "This lab has two main goals:\n",
    "\n",
    "1) Get more familiar with the hierarchy of 2D transformation <br>\n",
    "\n",
    "2) Remove the projective distortion of an image of a planar object (image rectification)\n",
    "\n",
    "The following file combines some text cells (Markdown cells) and code cells. Some parts of the code need to be completed. All tasks you need to complete are marked in <span style='color:Green'> green.  </span>"
   ]
  },
  {
   "cell_type": "code",
   "execution_count": null,
   "metadata": {},
   "outputs": [],
   "source": [
    "from PIL import Image, ImageDraw\n",
    "import numpy as np\n",
    "from scipy.ndimage import map_coordinates\n",
    "from numpy import linalg as LA\n",
    "from math import ceil\n",
    "from utils import line_draw, plot_img"
   ]
  },
  {
   "cell_type": "markdown",
   "metadata": {},
   "source": [
    "## **1. Applying image transformations**\n",
    "\n",
    "In this first part of the lab you will apply different types of 2D transformations to a given image. For that, you first need to create a function that applies a homography to animage.\n",
    "\n",
    "<span style='color:Green'> - Create the function  *apply_H* that gets as input a homography and\n",
    "an image and returns the image transformed by the homography. </span>\n",
    "\n",
    "Note: The size of the transformed image has to be automatically set so as to \n",
    "contain the whole transformed image.\n",
    "You will need to interpolate the image values at some points, for that,\n",
    "you may use the function *scipy.ndimage.map_coordinates*"
   ]
  },
  {
   "cell_type": "code",
   "execution_count": null,
   "metadata": {},
   "outputs": [],
   "source": [
    "def apply_H(I, H):\n",
    "    \n",
    "    # complete ...\n",
    " \n",
    "    return out"
   ]
  },
  {
   "cell_type": "markdown",
   "metadata": {},
   "source": [
    "### **1.1 Similarities**\n",
    "\n",
    "<span style='color:Green'> - Complete the code below by generating a matrix H which produces a similarity transformation. </span>"
   ]
  },
  {
   "cell_type": "code",
   "execution_count": null,
   "metadata": {},
   "outputs": [],
   "source": [
    "#H = ... # complete ...\n",
    "\n",
    "img_path = \"./Data/0005_s.png\"\n",
    "I = Image.open(img_path)\n",
    "I_sim = apply_H(np.array(I), H)\n",
    "\n",
    "plot_img(I)\n",
    "plot_img(I_sim)"
   ]
  },
  {
   "cell_type": "markdown",
   "metadata": {},
   "source": [
    "### **1.2 Affinities**\n",
    "\n",
    "<span style='color:Green'> - Complete the code below by generating a matrix H which produces an affine transformation.  </span>\n",
    "\n",
    "<span style='color:Green'> - Decompose the affinity in four transformations: two\n",
    "rotations, a scale, and a translation (you may use function *numpy.linalg.svd* for that).  </span>\n",
    "\n",
    "<span style='color:Green'> - Verify that the product of the four previous transformations\n",
    "produces the same matrix H as above.  </span>\n",
    "\n",
    "<span style='color:Green'> - verify that the proper sequence of the four previous\n",
    "transformations over the image I produces the same transformed image as before.  </span>"
   ]
  },
  {
   "cell_type": "code",
   "execution_count": null,
   "metadata": {},
   "outputs": [],
   "source": [
    "#H = ... # complete\n",
    "\n",
    "I_aff = apply_H(np.array(I), H)\n",
    "\n",
    "plot_img(I)\n",
    "plot_img(I_aff)"
   ]
  },
  {
   "cell_type": "markdown",
   "metadata": {},
   "source": [
    "### **1.3 Projective transformations (Homographies)**\n",
    "\n",
    "<span style='color:Green'> - Complete the code below by generating a matrix H which produces a projective transformation.  </span>"
   ]
  },
  {
   "cell_type": "code",
   "execution_count": null,
   "metadata": {},
   "outputs": [],
   "source": [
    "#H = ... # complete\n",
    "\n",
    "I_proj = apply_H(np.array(I), H)\n",
    "\n",
    "plot_img(I)\n",
    "plot_img(I_proj)"
   ]
  },
  {
   "cell_type": "markdown",
   "metadata": {},
   "source": [
    "## **2. Affine Rectification**\n",
    "\n",
    "This step is needed in order to rectify an image in a stratified way, where we first perform affine rectification (current section) and then metric rectification (Section 3)."
   ]
  },
  {
   "cell_type": "code",
   "execution_count": null,
   "metadata": {},
   "outputs": [],
   "source": [
    "# load images and lines\n",
    "img_path = \"./Data/0000_s.png\"\n",
    "I = Image.open(img_path)\n",
    "\n",
    "lines_path = \"./Data/0000_s_info_lines.txt\"\n",
    "A = np.loadtxt(lines_path)\n",
    "\n",
    "# points of interest\n",
    "i = 423 # line index\n",
    "p1 = [A[i, 0], A[i, 1], 1] # initial point in line i\n",
    "p2 = [A[i, 2], A[i, 3], 1] # final point in line i\n",
    "i = 239\n",
    "p3 = [A[i, 0], A[i, 1], 1]\n",
    "p4 = [A[i, 2], A[i, 3], 1]\n",
    "i = 711\n",
    "p5 = [A[i, 0], A[i, 1], 1]\n",
    "p6 = [A[i, 2], A[i, 3], 1]\n",
    "i = 564\n",
    "p7 = [A[i, 0], A[i, 1], 1]\n",
    "p8 = [A[i, 2], A[i, 3], 1]"
   ]
  },
  {
   "cell_type": "markdown",
   "metadata": {},
   "source": [
    "<span style='color:Green'> - Compute the lines l1, l2, l3, l4, that pass through the different pairs of points.  </span>"
   ]
  },
  {
   "cell_type": "code",
   "execution_count": null,
   "metadata": {},
   "outputs": [],
   "source": [
    "l1, l2, l3, l4 = # complete ..."
   ]
  },
  {
   "cell_type": "code",
   "execution_count": null,
   "metadata": {},
   "outputs": [],
   "source": [
    "# show the chosen lines in the image\n",
    "canv = ImageDraw.Draw(I)\n",
    "point_color = (0, 0, 255)\n",
    "line_draw(l1, canv, I.size)\n",
    "line_draw(l2, canv, I.size)\n",
    "line_draw(l3, canv, I.size)\n",
    "line_draw(l4, canv, I.size)\n",
    "\n",
    "# The displayed lines will alter image I so we have to reopen the original image after the plot\n",
    "plot_img(I)\n",
    "I = Image.open(img_path)"
   ]
  },
  {
   "cell_type": "markdown",
   "metadata": {},
   "source": [
    "<span style='color:Green'> - Compute the homography that affinely rectifies the image </span>\n",
    "ToDo: \n",
    "\n",
    "<span style='color:Green'> - Compute the transformed lines lr1, lr2, lr3, lr4 and\n",
    "      show the transformed lines in the transformed image. </span>\n",
    "      \n",
    "<span style='color:Green'> - To evaluate the results, compute the angle between the different pair \n",
    "      of lines before and after the image transformation. </span>\n",
    "ToDo: \n",
    "**better rephrase more precisely (see two options and also expression of line slope)**    "
   ]
  },
  {
   "cell_type": "markdown",
   "metadata": {},
   "source": [
    "## **3. Metric Rectification**\n",
    "\n",
    "### **3.1 Metric rectification after the affine rectification (stratified solution)**\n",
    "\n",
    "<span style='color:Green'> - Write the code that performs the metric rectification (after the affine rectification). </span>\n",
    "\n",
    "As qualitative evaluation method you can display the images (before and after the metric rectification) with the chosen lines printed on it.\n",
    "      \n",
    "<span style='color:Green'> - Compute the angles between the pair of lines before and after rectification. Comment the result. </span>\n",
    "      \n"
   ]
  },
  {
   "cell_type": "markdown",
   "metadata": {},
   "source": [
    "## **4. Affine and Metric Rectification of the left facade of image 0001**\n",
    "\n",
    "<span style='color:Green'> - Write the code that rectifies the left facade of image 0001 with\n",
    "      the stratified method.  </span>\n",
    "      \n",
    "Note: For a better visualization of the result crop the initial image so that only the left facade is visible.\n",
    "\n",
    "<span style='color:Green'> - Show the (properly) transformed lines that are used in every step.  </span>\n",
    "      \n",
    "      "
   ]
  },
  {
   "cell_type": "markdown",
   "metadata": {},
   "source": [
    "## **5. OPTIONAL: Metric Rectification in a single step**\n",
    "\n",
    "<span style='color:Green'> - Write the code that performs metric rectification in a single step (algorithm pages 55-57, Hartley-Zisserman book). </span>\n",
    "\n",
    "Note: Use 5 pairs of orthogonal lines. You may consider that windows are square."
   ]
  }
 ],
 "metadata": {
  "kernelspec": {
   "display_name": "Python 3",
   "language": "python",
   "name": "python3"
  },
  "language_info": {
   "codemirror_mode": {
    "name": "ipython",
    "version": 3
   },
   "file_extension": ".py",
   "mimetype": "text/x-python",
   "name": "python",
   "nbconvert_exporter": "python",
   "pygments_lexer": "ipython3",
   "version": "3.7.3"
  }
 },
 "nbformat": 4,
 "nbformat_minor": 2
}
